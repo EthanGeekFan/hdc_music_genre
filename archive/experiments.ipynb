{
 "cells": [
  {
   "cell_type": "code",
   "execution_count": null,
   "metadata": {},
   "outputs": [
    {
     "ename": "ModuleNotFoundError",
     "evalue": "No module named 'datasets'",
     "output_type": "error",
     "traceback": [
      "\u001b[0;31m---------------------------------------------------------------------------\u001b[0m",
      "\u001b[0;31mModuleNotFoundError\u001b[0m                       Traceback (most recent call last)",
      "Cell \u001b[0;32mIn[2], line 1\u001b[0m\n\u001b[0;32m----> 1\u001b[0m \u001b[39mimport\u001b[39;00m \u001b[39mpre\u001b[39;00m\n\u001b[1;32m      3\u001b[0m dataset \u001b[39m=\u001b[39m pre\u001b[39m.\u001b[39mten_pieces()\n\u001b[1;32m      4\u001b[0m get_ipython()\u001b[39m.\u001b[39msystem(\u001b[39m'\u001b[39m\u001b[39m{sys.executable}\u001b[39;00m\u001b[39m -m pip install reverse_geocoder\u001b[39m\u001b[39m'\u001b[39m)\n",
      "File \u001b[0;32m~/Desktop/CS229_Project/hdc_music_genre/pre.py:8\u001b[0m\n\u001b[1;32m      1\u001b[0m \u001b[39m# Preprocess the dataset\u001b[39;00m\n\u001b[1;32m      2\u001b[0m \u001b[39m# there are 1000 audios in the dataset, each audio has 30 seconds, 22050 sample rate\u001b[39;00m\n\u001b[1;32m      3\u001b[0m \u001b[39m# we cut each audio into 10 pieces, each piece has 3 seconds, 22050 sample rate\u001b[39;00m\n\u001b[1;32m      4\u001b[0m \u001b[39m# then use various methods to extract features from each piece\u001b[39;00m\n\u001b[1;32m      5\u001b[0m \u001b[39m# finally, we get 10000 pieces of data\u001b[39;00m\n\u001b[1;32m      7\u001b[0m \u001b[39mimport\u001b[39;00m \u001b[39mos\u001b[39;00m\n\u001b[0;32m----> 8\u001b[0m \u001b[39mfrom\u001b[39;00m \u001b[39mdatasets\u001b[39;00m \u001b[39mimport\u001b[39;00m load_dataset, Dataset, load_from_disk, ClassLabel\n\u001b[1;32m      9\u001b[0m \u001b[39mimport\u001b[39;00m \u001b[39mlibrosa\u001b[39;00m\n\u001b[1;32m     10\u001b[0m \u001b[39mimport\u001b[39;00m \u001b[39mnumpy\u001b[39;00m \u001b[39mas\u001b[39;00m \u001b[39mnp\u001b[39;00m\n",
      "\u001b[0;31mModuleNotFoundError\u001b[0m: No module named 'datasets'"
     ]
    }
   ],
   "source": [
    "import pre\n",
    "\n",
    "dataset = pre.ten_pieces()\n",
    "dataset.set_format('torch', columns=['audio'])"
   ]
  },
  {
   "cell_type": "code",
   "execution_count": 3,
   "metadata": {},
   "outputs": [
    {
     "name": "stdout",
     "output_type": "stream",
     "text": [
      "torch.Size([66000])\n",
      "{'audio': tensor([0.0073, 0.0166, 0.0076,  ..., 0.0381, 0.0224, 0.0161])}\n"
     ]
    }
   ],
   "source": [
    "sample = dataset[0]\n",
    "print(sample['audio'].shape)\n",
    "print(sample)"
   ]
  },
  {
   "cell_type": "code",
   "execution_count": 4,
   "metadata": {},
   "outputs": [],
   "source": [
    "import torchaudio\n",
    "import torchaudio.transforms as T\n",
    "import torch"
   ]
  },
  {
   "cell_type": "code",
   "execution_count": 5,
   "metadata": {},
   "outputs": [
    {
     "name": "stdout",
     "output_type": "stream",
     "text": [
      "torch.Size([256, 129])\n",
      "tensor([[1.1147e+01, 2.0331e+00, 1.0572e+00,  ..., 3.2233e+00, 2.5127e+00,\n",
      "         2.1583e+00],\n",
      "        [1.0842e+01, 1.9315e+00, 8.0333e-01,  ..., 2.4310e+00, 1.6593e+00,\n",
      "         3.4967e+00],\n",
      "        [1.1829e+01, 2.0105e+00, 4.0251e-01,  ..., 1.1685e+00, 1.5696e-01,\n",
      "         6.7589e+00],\n",
      "        ...,\n",
      "        [8.4045e-04, 2.1082e-04, 7.3234e-07,  ..., 1.5168e-06, 3.5419e-06,\n",
      "         3.8942e-04],\n",
      "        [8.3666e-04, 2.0951e-04, 4.4094e-07,  ..., 6.9691e-07, 1.4332e-06,\n",
      "         3.8712e-04],\n",
      "        [8.5426e-04, 2.1400e-04, 4.7995e-07,  ..., 6.8319e-07, 6.9439e-07,\n",
      "         3.8402e-04]], device='cuda:0')\n"
     ]
    }
   ],
   "source": [
    "mel_spectrogram = T.MelSpectrogram(sample_rate=22050, n_fft=2048, hop_length=512, n_mels=256)\n",
    "mel_spectrogram = mel_spectrogram.to('cuda')\n",
    "melspectro = mel_spectrogram(sample['audio'].to('cuda'))\n",
    "print(melspectro.shape)\n",
    "print(melspectro)"
   ]
  },
  {
   "cell_type": "code",
   "execution_count": 6,
   "metadata": {},
   "outputs": [
    {
     "name": "stdout",
     "output_type": "stream",
     "text": [
      "torch.Size([1025, 129])\n"
     ]
    }
   ],
   "source": [
    "spectrogram = T.Spectrogram(n_fft=2048, hop_length=512)\n",
    "spectrogram = spectrogram.to('cuda')\n",
    "spectro = spectrogram(sample['audio'].to('cuda'))\n",
    "print(spectro.shape)"
   ]
  },
  {
   "cell_type": "code",
   "execution_count": 7,
   "metadata": {},
   "outputs": [
    {
     "name": "stdout",
     "output_type": "stream",
     "text": [
      "(128, 129)\n"
     ]
    }
   ],
   "source": [
    "import librosa\n",
    "import librosa.display\n",
    "import matplotlib.pyplot as plt\n",
    "\n",
    "mel = librosa.feature.melspectrogram(y=sample['audio'].numpy(), sr=22050, n_fft=2048, hop_length=512)\n",
    "print(mel.shape)"
   ]
  },
  {
   "cell_type": "code",
   "execution_count": 13,
   "metadata": {},
   "outputs": [
    {
     "name": "stdout",
     "output_type": "stream",
     "text": [
      "torch.Size([128, 129])\n",
      "tensor([[ -9.6422,  -9.4019,   6.7490,  ...,  72.9769,  79.7611,  95.0214],\n",
      "        [ 73.4444,  81.0910,  85.4679,  ...,  56.8782,  34.7639,  32.1531],\n",
      "        [-13.5693, -15.1711,  -4.0094,  ...,  23.1031,  17.5645,  -0.1005],\n",
      "        ...,\n",
      "        [  0.6685,  -0.7243,  -1.0321,  ...,   0.7506,   0.5125,  -0.6960],\n",
      "        [  3.2861,   0.9177,   0.7402,  ...,   0.0971,   2.0362,  -0.3207],\n",
      "        [  0.6684,   0.1612,  -0.5057,  ...,  -0.7985,   1.9585,   1.2054]],\n",
      "       device='cuda:0')\n"
     ]
    }
   ],
   "source": [
    "mfcc = T.MFCC(sample_rate=22050, n_mfcc=128, melkwargs={'n_fft': 2048, 'hop_length': 512, 'n_mels': 128})\n",
    "mfcc = mfcc.to('cuda')\n",
    "mfccs = mfcc(sample['audio'].to('cuda'))\n",
    "print(mfccs.shape)\n",
    "print(mfccs)"
   ]
  }
 ],
 "metadata": {
  "kernelspec": {
   "display_name": "music",
   "language": "python",
   "name": "python3"
  },
  "language_info": {
   "codemirror_mode": {
    "name": "ipython",
    "version": 3
   },
   "file_extension": ".py",
   "mimetype": "text/x-python",
   "name": "python",
   "nbconvert_exporter": "python",
   "pygments_lexer": "ipython3",
   "version": "3.10.4"
  },
  "orig_nbformat": 4
 },
 "nbformat": 4,
 "nbformat_minor": 2
}
